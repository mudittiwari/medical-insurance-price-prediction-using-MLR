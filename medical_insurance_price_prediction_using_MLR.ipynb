{
  "nbformat": 4,
  "nbformat_minor": 0,
  "metadata": {
    "colab": {
      "name": "medical insurance price prediction using MLR.ipynb",
      "provenance": []
    },
    "kernelspec": {
      "name": "python3",
      "display_name": "Python 3"
    }
  },
  "cells": [
    {
      "cell_type": "code",
      "metadata": {
        "id": "MxKVYy4RLlMk",
        "colab_type": "code",
        "colab": {}
      },
      "source": [
        "import pandas as pd\n",
        "import numpy as np\n",
        "from sklearn.preprocessing import LabelEncoder,OneHotEncoder\n",
        "from sklearn.model_selection import train_test_split\n",
        "from sklearn.linear_model import LinearRegression\n",
        "from sklearn.metrics import r2_score\n",
        "import statsmodels.regression.linear_model as sm"
      ],
      "execution_count": 93,
      "outputs": []
    },
    {
      "cell_type": "code",
      "metadata": {
        "id": "84zOY7AnOCUp",
        "colab_type": "code",
        "colab": {}
      },
      "source": [
        "df=pd.read_csv('dataset.csv')"
      ],
      "execution_count": 37,
      "outputs": []
    },
    {
      "cell_type": "code",
      "metadata": {
        "id": "QeAOvI30OF3v",
        "colab_type": "code",
        "colab": {
          "base_uri": "https://localhost:8080/",
          "height": 206
        },
        "outputId": "a6bc0e0c-936e-48ad-d764-245a6e5f4525"
      },
      "source": [
        "df.head()"
      ],
      "execution_count": 38,
      "outputs": [
        {
          "output_type": "execute_result",
          "data": {
            "text/html": [
              "<div>\n",
              "<style scoped>\n",
              "    .dataframe tbody tr th:only-of-type {\n",
              "        vertical-align: middle;\n",
              "    }\n",
              "\n",
              "    .dataframe tbody tr th {\n",
              "        vertical-align: top;\n",
              "    }\n",
              "\n",
              "    .dataframe thead th {\n",
              "        text-align: right;\n",
              "    }\n",
              "</style>\n",
              "<table border=\"1\" class=\"dataframe\">\n",
              "  <thead>\n",
              "    <tr style=\"text-align: right;\">\n",
              "      <th></th>\n",
              "      <th>age</th>\n",
              "      <th>sex</th>\n",
              "      <th>bmi</th>\n",
              "      <th>children</th>\n",
              "      <th>smoker</th>\n",
              "      <th>region</th>\n",
              "      <th>charges</th>\n",
              "    </tr>\n",
              "  </thead>\n",
              "  <tbody>\n",
              "    <tr>\n",
              "      <th>0</th>\n",
              "      <td>19</td>\n",
              "      <td>female</td>\n",
              "      <td>27.900</td>\n",
              "      <td>0</td>\n",
              "      <td>yes</td>\n",
              "      <td>southwest</td>\n",
              "      <td>16884.92400</td>\n",
              "    </tr>\n",
              "    <tr>\n",
              "      <th>1</th>\n",
              "      <td>18</td>\n",
              "      <td>male</td>\n",
              "      <td>33.770</td>\n",
              "      <td>1</td>\n",
              "      <td>no</td>\n",
              "      <td>southeast</td>\n",
              "      <td>1725.55230</td>\n",
              "    </tr>\n",
              "    <tr>\n",
              "      <th>2</th>\n",
              "      <td>28</td>\n",
              "      <td>male</td>\n",
              "      <td>33.000</td>\n",
              "      <td>3</td>\n",
              "      <td>no</td>\n",
              "      <td>southeast</td>\n",
              "      <td>4449.46200</td>\n",
              "    </tr>\n",
              "    <tr>\n",
              "      <th>3</th>\n",
              "      <td>33</td>\n",
              "      <td>male</td>\n",
              "      <td>22.705</td>\n",
              "      <td>0</td>\n",
              "      <td>no</td>\n",
              "      <td>northwest</td>\n",
              "      <td>21984.47061</td>\n",
              "    </tr>\n",
              "    <tr>\n",
              "      <th>4</th>\n",
              "      <td>32</td>\n",
              "      <td>male</td>\n",
              "      <td>28.880</td>\n",
              "      <td>0</td>\n",
              "      <td>no</td>\n",
              "      <td>northwest</td>\n",
              "      <td>3866.85520</td>\n",
              "    </tr>\n",
              "  </tbody>\n",
              "</table>\n",
              "</div>"
            ],
            "text/plain": [
              "   age     sex     bmi  children smoker     region      charges\n",
              "0   19  female  27.900         0    yes  southwest  16884.92400\n",
              "1   18    male  33.770         1     no  southeast   1725.55230\n",
              "2   28    male  33.000         3     no  southeast   4449.46200\n",
              "3   33    male  22.705         0     no  northwest  21984.47061\n",
              "4   32    male  28.880         0     no  northwest   3866.85520"
            ]
          },
          "metadata": {
            "tags": []
          },
          "execution_count": 38
        }
      ]
    },
    {
      "cell_type": "code",
      "metadata": {
        "id": "h1kItCaCO2Tp",
        "colab_type": "code",
        "colab": {}
      },
      "source": [
        "real_x=df.drop('charges',axis=1)"
      ],
      "execution_count": 39,
      "outputs": []
    },
    {
      "cell_type": "code",
      "metadata": {
        "id": "jEKOfGuAPq_0",
        "colab_type": "code",
        "colab": {}
      },
      "source": [
        "real_x=real_x[['age','bmi','sex','children','smoker','region',]]"
      ],
      "execution_count": null,
      "outputs": []
    },
    {
      "cell_type": "code",
      "metadata": {
        "id": "ajPpNoKNWVMx",
        "colab_type": "code",
        "colab": {
          "base_uri": "https://localhost:8080/",
          "height": 146
        },
        "outputId": "de2f0a34-91cb-40dc-b993-c2a08badd9fc"
      },
      "source": [
        "real_x"
      ],
      "execution_count": 57,
      "outputs": [
        {
          "output_type": "execute_result",
          "data": {
            "text/plain": [
              "array([[19, 27.9, 0, 0, 'yes', 'southwest'],\n",
              "       [18, 33.77, 1, 1, 'no', 'southeast'],\n",
              "       [28, 33.0, 1, 3, 'no', 'southeast'],\n",
              "       ...,\n",
              "       [18, 36.85, 0, 0, 'no', 'southeast'],\n",
              "       [21, 25.8, 0, 0, 'no', 'southwest'],\n",
              "       [61, 29.07, 0, 0, 'yes', 'northwest']], dtype=object)"
            ]
          },
          "metadata": {
            "tags": []
          },
          "execution_count": 57
        }
      ]
    },
    {
      "cell_type": "code",
      "metadata": {
        "id": "772h7NDiPMu5",
        "colab_type": "code",
        "colab": {}
      },
      "source": [
        "real_x=real_x.to_numpy()"
      ],
      "execution_count": 41,
      "outputs": []
    },
    {
      "cell_type": "code",
      "metadata": {
        "id": "fl4yNQGlZVDm",
        "colab_type": "code",
        "colab": {}
      },
      "source": [
        "real_y=df[\"charges\"]\n",
        "real_y=real_y.to_numpy()"
      ],
      "execution_count": 85,
      "outputs": []
    },
    {
      "cell_type": "code",
      "metadata": {
        "id": "XhBMIBZJQkra",
        "colab_type": "code",
        "colab": {}
      },
      "source": [
        "le=LabelEncoder()"
      ],
      "execution_count": 42,
      "outputs": []
    },
    {
      "cell_type": "code",
      "metadata": {
        "id": "nxZdG1x4RASU",
        "colab_type": "code",
        "colab": {}
      },
      "source": [
        "real_x[:,2]=le.fit_transform(real_x[:,2])"
      ],
      "execution_count": 43,
      "outputs": []
    },
    {
      "cell_type": "code",
      "metadata": {
        "id": "yfoAR5ZRRQLS",
        "colab_type": "code",
        "colab": {}
      },
      "source": [
        "real_x[:,3]=le.fit_transform(real_x[:,3])"
      ],
      "execution_count": 44,
      "outputs": []
    },
    {
      "cell_type": "code",
      "metadata": {
        "id": "n2_1i27SRc3X",
        "colab_type": "code",
        "colab": {}
      },
      "source": [
        "arrayone_tobeoneHE=real_x[:,3]\n",
        "arrayone_tobeoneHE=arrayone_tobeoneHE.reshape(-1,1)\n",
        "oneHE=OneHotEncoder(handle_unknown='ignore')"
      ],
      "execution_count": 45,
      "outputs": []
    },
    {
      "cell_type": "code",
      "metadata": {
        "id": "kGti_dM7R-lT",
        "colab_type": "code",
        "colab": {}
      },
      "source": [
        "arrayone_afteroneHE=oneHE.fit_transform(arrayone_tobeoneHE)\n",
        "arrayone_afteroneHE=arrayone_afteroneHE.toarray()\n",
        "arrayone_afteroneHE=np.delete(arrayone_afteroneHE,0,axis=1)"
      ],
      "execution_count": 49,
      "outputs": []
    },
    {
      "cell_type": "code",
      "metadata": {
        "id": "4gMjDoUqVyTZ",
        "colab_type": "code",
        "colab": {}
      },
      "source": [
        "arraytwo_tobeoneHE=real_x[:,4]\n",
        "arraytwo_tobeoneHE=arraytwo_tobeoneHE.reshape(-1,1)"
      ],
      "execution_count": 52,
      "outputs": []
    },
    {
      "cell_type": "code",
      "metadata": {
        "id": "YteatkFNV-gW",
        "colab_type": "code",
        "colab": {}
      },
      "source": [
        "arraytwo_afteroneHE=oneHE.fit_transform(arraytwo_tobeoneHE)\n",
        "arraytwo_afteroneHE=arraytwo_afteroneHE.toarray()\n",
        "arraytwo_afteroneHE=np.delete(arraytwo_afteroneHE,0,axis=1)"
      ],
      "execution_count": 58,
      "outputs": []
    },
    {
      "cell_type": "code",
      "metadata": {
        "id": "gyhd0KNKWqm1",
        "colab_type": "code",
        "colab": {}
      },
      "source": [
        "arraythree_tobeoneHE=real_x[:,5]\n",
        "arraythree_tobeoneHE=arraythree_tobeoneHE.reshape(-1,1)"
      ],
      "execution_count": 62,
      "outputs": []
    },
    {
      "cell_type": "code",
      "metadata": {
        "id": "bY1l-tdyXMo8",
        "colab_type": "code",
        "colab": {}
      },
      "source": [
        "arraythree_afteroneHE=oneHE.fit_transform(arraythree_tobeoneHE)\n",
        "arraythree_afteroneHE=arraythree_afteroneHE.toarray()\n",
        "arraythree_afteroneHE=np.delete(arraythree_afteroneHE,0,axis=1)"
      ],
      "execution_count": 66,
      "outputs": []
    },
    {
      "cell_type": "code",
      "metadata": {
        "id": "VxTDkp34X4w2",
        "colab_type": "code",
        "colab": {}
      },
      "source": [
        "real_x=np.delete(real_x,[[3,4,5]],axis=1)"
      ],
      "execution_count": 68,
      "outputs": []
    },
    {
      "cell_type": "code",
      "metadata": {
        "id": "PcSN19kzYFGe",
        "colab_type": "code",
        "colab": {}
      },
      "source": [
        "real_x=np.concatenate((real_x,arrayone_afteroneHE,arraytwo_afteroneHE,arraythree_afteroneHE),axis=1)"
      ],
      "execution_count": 70,
      "outputs": []
    },
    {
      "cell_type": "code",
      "metadata": {
        "id": "udfiB22ibD0f",
        "colab_type": "code",
        "colab": {}
      },
      "source": [
        "real_x=np.append(np.ones((len(real_x),1)).astype(int),real_x,axis=1)"
      ],
      "execution_count": 96,
      "outputs": []
    },
    {
      "cell_type": "code",
      "metadata": {
        "id": "F_a7diiSYglT",
        "colab_type": "code",
        "colab": {}
      },
      "source": [
        "training_x,testing_x,training_y,testing_y=train_test_split(real_x,real_y,test_size=0.3,random_state=0)"
      ],
      "execution_count": 98,
      "outputs": []
    },
    {
      "cell_type": "code",
      "metadata": {
        "id": "D8VhKvDVZkjC",
        "colab_type": "code",
        "colab": {}
      },
      "source": [
        "regressor=LinearRegression()"
      ],
      "execution_count": 99,
      "outputs": []
    },
    {
      "cell_type": "code",
      "metadata": {
        "id": "dQd1IsMDZnj8",
        "colab_type": "code",
        "colab": {
          "base_uri": "https://localhost:8080/",
          "height": 35
        },
        "outputId": "fb2c0601-f03b-4cf8-f42d-6bc4c703e54b"
      },
      "source": [
        "regressor.fit(training_x,training_y)"
      ],
      "execution_count": 100,
      "outputs": [
        {
          "output_type": "execute_result",
          "data": {
            "text/plain": [
              "LinearRegression(copy_X=True, fit_intercept=True, n_jobs=None, normalize=False)"
            ]
          },
          "metadata": {
            "tags": []
          },
          "execution_count": 100
        }
      ]
    },
    {
      "cell_type": "code",
      "metadata": {
        "id": "bndffoEtZqu9",
        "colab_type": "code",
        "colab": {}
      },
      "source": [
        "pred_y=regressor.predict(testing_x)"
      ],
      "execution_count": 101,
      "outputs": []
    },
    {
      "cell_type": "code",
      "metadata": {
        "id": "-Hu7dm9-ZvNx",
        "colab_type": "code",
        "colab": {
          "base_uri": "https://localhost:8080/",
          "height": 35
        },
        "outputId": "466eb487-9258-456a-efa2-7221a7c942fc"
      },
      "source": [
        "score=r2_score(testing_y,pred_y)\n",
        "score\n",
        "#this is the score when we have not applied backward elimination"
      ],
      "execution_count": 102,
      "outputs": [
        {
          "output_type": "execute_result",
          "data": {
            "text/plain": [
              "0.7899899554426715"
            ]
          },
          "metadata": {
            "tags": []
          },
          "execution_count": 102
        }
      ]
    },
    {
      "cell_type": "code",
      "metadata": {
        "id": "YL0blWDZanIa",
        "colab_type": "code",
        "colab": {}
      },
      "source": [
        "x_opt=real_x[:,[0,1,2,5,7,9]].astype('float64')"
      ],
      "execution_count": 126,
      "outputs": []
    },
    {
      "cell_type": "code",
      "metadata": {
        "id": "QROHPKXja3x-",
        "colab_type": "code",
        "colab": {}
      },
      "source": [
        "regressor_ols=sm.OLS(endog=real_y,exog=x_opt).fit()"
      ],
      "execution_count": 127,
      "outputs": []
    },
    {
      "cell_type": "code",
      "metadata": {
        "id": "R0minQe6buly",
        "colab_type": "code",
        "colab": {
          "base_uri": "https://localhost:8080/",
          "height": 537
        },
        "outputId": "2b898f30-c81f-4f85-8839-a2692fab1b2d"
      },
      "source": [
        "regressor_ols.summary()"
      ],
      "execution_count": 128,
      "outputs": [
        {
          "output_type": "execute_result",
          "data": {
            "text/html": [
              "<table class=\"simpletable\">\n",
              "<caption>OLS Regression Results</caption>\n",
              "<tr>\n",
              "  <th>Dep. Variable:</th>            <td>y</td>        <th>  R-squared:         </th> <td>   0.750</td> \n",
              "</tr>\n",
              "<tr>\n",
              "  <th>Model:</th>                   <td>OLS</td>       <th>  Adj. R-squared:    </th> <td>   0.749</td> \n",
              "</tr>\n",
              "<tr>\n",
              "  <th>Method:</th>             <td>Least Squares</td>  <th>  F-statistic:       </th> <td>   799.5</td> \n",
              "</tr>\n",
              "<tr>\n",
              "  <th>Date:</th>             <td>Fri, 31 Jul 2020</td> <th>  Prob (F-statistic):</th>  <td>  0.00</td>  \n",
              "</tr>\n",
              "<tr>\n",
              "  <th>Time:</th>                 <td>05:57:34</td>     <th>  Log-Likelihood:    </th> <td> -13550.</td> \n",
              "</tr>\n",
              "<tr>\n",
              "  <th>No. Observations:</th>      <td>  1338</td>      <th>  AIC:               </th> <td>2.711e+04</td>\n",
              "</tr>\n",
              "<tr>\n",
              "  <th>Df Residuals:</th>          <td>  1332</td>      <th>  BIC:               </th> <td>2.714e+04</td>\n",
              "</tr>\n",
              "<tr>\n",
              "  <th>Df Model:</th>              <td>     5</td>      <th>                     </th>     <td> </td>    \n",
              "</tr>\n",
              "<tr>\n",
              "  <th>Covariance Type:</th>      <td>nonrobust</td>    <th>                     </th>     <td> </td>    \n",
              "</tr>\n",
              "</table>\n",
              "<table class=\"simpletable\">\n",
              "<tr>\n",
              "    <td></td>       <th>coef</th>     <th>std err</th>      <th>t</th>      <th>P>|t|</th>  <th>[0.025</th>    <th>0.975]</th>  \n",
              "</tr>\n",
              "<tr>\n",
              "  <th>const</th> <td>-1.187e+04</td> <td>  935.091</td> <td>  -12.696</td> <td> 0.000</td> <td>-1.37e+04</td> <td>   -1e+04</td>\n",
              "</tr>\n",
              "<tr>\n",
              "  <th>x1</th>    <td>  259.4430</td> <td>   11.882</td> <td>   21.835</td> <td> 0.000</td> <td>  236.133</td> <td>  282.752</td>\n",
              "</tr>\n",
              "<tr>\n",
              "  <th>x2</th>    <td>  319.5948</td> <td>   27.379</td> <td>   11.673</td> <td> 0.000</td> <td>  265.885</td> <td>  373.305</td>\n",
              "</tr>\n",
              "<tr>\n",
              "  <th>x3</th>    <td> 1353.4156</td> <td>  433.404</td> <td>    3.123</td> <td> 0.002</td> <td>  503.188</td> <td> 2203.644</td>\n",
              "</tr>\n",
              "<tr>\n",
              "  <th>x4</th>    <td> 2713.8279</td> <td> 1227.826</td> <td>    2.210</td> <td> 0.027</td> <td>  305.144</td> <td> 5122.512</td>\n",
              "</tr>\n",
              "<tr>\n",
              "  <th>x5</th>    <td> 2.381e+04</td> <td>  411.371</td> <td>   57.889</td> <td> 0.000</td> <td>  2.3e+04</td> <td> 2.46e+04</td>\n",
              "</tr>\n",
              "</table>\n",
              "<table class=\"simpletable\">\n",
              "<tr>\n",
              "  <th>Omnibus:</th>       <td>291.965</td> <th>  Durbin-Watson:     </th> <td>   2.076</td> \n",
              "</tr>\n",
              "<tr>\n",
              "  <th>Prob(Omnibus):</th> <td> 0.000</td>  <th>  Jarque-Bera (JB):  </th> <td> 683.559</td> \n",
              "</tr>\n",
              "<tr>\n",
              "  <th>Skew:</th>          <td> 1.188</td>  <th>  Prob(JB):          </th> <td>3.69e-149</td>\n",
              "</tr>\n",
              "<tr>\n",
              "  <th>Kurtosis:</th>      <td> 5.573</td>  <th>  Cond. No.          </th> <td>    380.</td> \n",
              "</tr>\n",
              "</table><br/><br/>Warnings:<br/>[1] Standard Errors assume that the covariance matrix of the errors is correctly specified."
            ],
            "text/plain": [
              "<class 'statsmodels.iolib.summary.Summary'>\n",
              "\"\"\"\n",
              "                            OLS Regression Results                            \n",
              "==============================================================================\n",
              "Dep. Variable:                      y   R-squared:                       0.750\n",
              "Model:                            OLS   Adj. R-squared:                  0.749\n",
              "Method:                 Least Squares   F-statistic:                     799.5\n",
              "Date:                Fri, 31 Jul 2020   Prob (F-statistic):               0.00\n",
              "Time:                        05:57:34   Log-Likelihood:                -13550.\n",
              "No. Observations:                1338   AIC:                         2.711e+04\n",
              "Df Residuals:                    1332   BIC:                         2.714e+04\n",
              "Df Model:                           5                                         \n",
              "Covariance Type:            nonrobust                                         \n",
              "==============================================================================\n",
              "                 coef    std err          t      P>|t|      [0.025      0.975]\n",
              "------------------------------------------------------------------------------\n",
              "const      -1.187e+04    935.091    -12.696      0.000   -1.37e+04      -1e+04\n",
              "x1           259.4430     11.882     21.835      0.000     236.133     282.752\n",
              "x2           319.5948     27.379     11.673      0.000     265.885     373.305\n",
              "x3          1353.4156    433.404      3.123      0.002     503.188    2203.644\n",
              "x4          2713.8279   1227.826      2.210      0.027     305.144    5122.512\n",
              "x5          2.381e+04    411.371     57.889      0.000     2.3e+04    2.46e+04\n",
              "==============================================================================\n",
              "Omnibus:                      291.965   Durbin-Watson:                   2.076\n",
              "Prob(Omnibus):                  0.000   Jarque-Bera (JB):              683.559\n",
              "Skew:                           1.188   Prob(JB):                    3.69e-149\n",
              "Kurtosis:                       5.573   Cond. No.                         380.\n",
              "==============================================================================\n",
              "\n",
              "Warnings:\n",
              "[1] Standard Errors assume that the covariance matrix of the errors is correctly specified.\n",
              "\"\"\""
            ]
          },
          "metadata": {
            "tags": []
          },
          "execution_count": 128
        }
      ]
    },
    {
      "cell_type": "code",
      "metadata": {
        "id": "TTCRxg33b8v_",
        "colab_type": "code",
        "colab": {}
      },
      "source": [
        "training_x,testing_x,training_y,testing_y=train_test_split(x_opt,real_y,test_size=0.25,random_state=0)"
      ],
      "execution_count": 145,
      "outputs": []
    },
    {
      "cell_type": "code",
      "metadata": {
        "id": "n8jzkMdHc1MA",
        "colab_type": "code",
        "colab": {}
      },
      "source": [
        "regressor_two=LinearRegression()"
      ],
      "execution_count": 146,
      "outputs": []
    },
    {
      "cell_type": "code",
      "metadata": {
        "id": "S2sANHYyc4Ty",
        "colab_type": "code",
        "colab": {
          "base_uri": "https://localhost:8080/",
          "height": 35
        },
        "outputId": "94ea0414-1f38-4696-dea8-a73a4218cee0"
      },
      "source": [
        "regressor_two.fit(training_x,training_y)"
      ],
      "execution_count": 147,
      "outputs": [
        {
          "output_type": "execute_result",
          "data": {
            "text/plain": [
              "LinearRegression(copy_X=True, fit_intercept=True, n_jobs=None, normalize=False)"
            ]
          },
          "metadata": {
            "tags": []
          },
          "execution_count": 147
        }
      ]
    },
    {
      "cell_type": "code",
      "metadata": {
        "id": "K7VkBKiGc88u",
        "colab_type": "code",
        "colab": {}
      },
      "source": [
        "pred_y=regressor_two.predict(testing_x)"
      ],
      "execution_count": 148,
      "outputs": []
    },
    {
      "cell_type": "code",
      "metadata": {
        "id": "FlQT1g9idBBQ",
        "colab_type": "code",
        "colab": {
          "base_uri": "https://localhost:8080/",
          "height": 35
        },
        "outputId": "d54c1760-9e24-46ba-fd26-8c47b7c3411c"
      },
      "source": [
        "score=r2_score(testing_y,pred_y)\n",
        "score"
      ],
      "execution_count": 149,
      "outputs": [
        {
          "output_type": "execute_result",
          "data": {
            "text/plain": [
              "0.7924585316446098"
            ]
          },
          "metadata": {
            "tags": []
          },
          "execution_count": 149
        }
      ]
    }
  ]
}